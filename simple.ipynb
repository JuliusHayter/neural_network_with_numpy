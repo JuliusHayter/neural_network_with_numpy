{
 "cells": [
  {
   "cell_type": "code",
   "execution_count": 191,
   "metadata": {},
   "outputs": [],
   "source": [
    "import numpy as np \n",
    "import matplotlib.pyplot as plt\n",
    "import math\n",
    "from sklearn.metrics import mean_squared_error"
   ]
  },
  {
   "cell_type": "code",
   "execution_count": 423,
   "metadata": {},
   "outputs": [],
   "source": [
    "y = [i/10 for i in range(-40,40)]\n",
    "y = np.array(y)\n",
    "\n",
    "X = [i**2 for i in y]\n",
    "X = np.array(X)\n",
    "X = X.reshape(1,80)"
   ]
  },
  {
   "cell_type": "code",
   "execution_count": 424,
   "metadata": {},
   "outputs": [
    {
     "data": {
      "text/plain": [
       "(1, 80)"
      ]
     },
     "execution_count": 424,
     "metadata": {},
     "output_type": "execute_result"
    }
   ],
   "source": [
    "X.shape"
   ]
  },
  {
   "cell_type": "code",
   "execution_count": 412,
   "metadata": {},
   "outputs": [
    {
     "data": {
      "text/plain": [
       "array([[1.600e+01, 1.521e+01, 1.444e+01, 1.369e+01, 1.296e+01, 1.225e+01,\n",
       "        1.156e+01, 1.089e+01, 1.024e+01, 9.610e+00, 9.000e+00, 8.410e+00,\n",
       "        7.840e+00, 7.290e+00, 6.760e+00, 6.250e+00, 5.760e+00, 5.290e+00,\n",
       "        4.840e+00, 4.410e+00, 4.000e+00, 3.610e+00, 3.240e+00, 2.890e+00,\n",
       "        2.560e+00, 2.250e+00, 1.960e+00, 1.690e+00, 1.440e+00, 1.210e+00,\n",
       "        1.000e+00, 8.100e-01, 6.400e-01, 4.900e-01, 3.600e-01, 2.500e-01,\n",
       "        1.600e-01, 9.000e-02, 4.000e-02, 1.000e-02, 0.000e+00, 1.000e-02,\n",
       "        4.000e-02, 9.000e-02, 1.600e-01, 2.500e-01, 3.600e-01, 4.900e-01,\n",
       "        6.400e-01, 8.100e-01, 1.000e+00, 1.210e+00, 1.440e+00, 1.690e+00,\n",
       "        1.960e+00, 2.250e+00, 2.560e+00, 2.890e+00, 3.240e+00, 3.610e+00,\n",
       "        4.000e+00, 4.410e+00, 4.840e+00, 5.290e+00, 5.760e+00, 6.250e+00,\n",
       "        6.760e+00, 7.290e+00, 7.840e+00, 8.410e+00, 9.000e+00, 9.610e+00,\n",
       "        1.024e+01, 1.089e+01, 1.156e+01, 1.225e+01, 1.296e+01, 1.369e+01,\n",
       "        1.444e+01, 1.521e+01]])"
      ]
     },
     "execution_count": 412,
     "metadata": {},
     "output_type": "execute_result"
    }
   ],
   "source": [
    "X"
   ]
  },
  {
   "cell_type": "code",
   "execution_count": 422,
   "metadata": {},
   "outputs": [
    {
     "data": {
      "text/plain": [
       "(1, 80)"
      ]
     },
     "execution_count": 422,
     "metadata": {},
     "output_type": "execute_result"
    }
   ],
   "source": [
    "X.reshape(1,80).shape"
   ]
  },
  {
   "cell_type": "code",
   "execution_count": 414,
   "metadata": {},
   "outputs": [
    {
     "name": "stdout",
     "output_type": "stream",
     "text": [
      "(1, 80)\n",
      "(80, 1)\n"
     ]
    }
   ],
   "source": [
    "print(X.shape)\n",
    "print(X.T.shape)"
   ]
  },
  {
   "cell_type": "code",
   "execution_count": 415,
   "metadata": {},
   "outputs": [
    {
     "data": {
      "text/plain": [
       "array([[0.92738784],\n",
       "       [0.6530038 ],\n",
       "       [0.72394791],\n",
       "       [0.0648851 ],\n",
       "       [0.67097294],\n",
       "       [0.38985843],\n",
       "       [0.28498142],\n",
       "       [0.53590063],\n",
       "       [0.48858251],\n",
       "       [0.52488969],\n",
       "       [0.70374031],\n",
       "       [0.74527436],\n",
       "       [0.84893901],\n",
       "       [0.09537552],\n",
       "       [0.45775825],\n",
       "       [0.28845765],\n",
       "       [0.72912488],\n",
       "       [0.95486982],\n",
       "       [0.37253275],\n",
       "       [0.65136937],\n",
       "       [0.7145996 ],\n",
       "       [0.9320917 ],\n",
       "       [0.10347708],\n",
       "       [0.58860215],\n",
       "       [0.60787347],\n",
       "       [0.9684965 ],\n",
       "       [0.40758763],\n",
       "       [0.66487297],\n",
       "       [0.03251331],\n",
       "       [0.58751278],\n",
       "       [0.40461499],\n",
       "       [0.34520277],\n",
       "       [0.77893753],\n",
       "       [0.37277535],\n",
       "       [0.30464575],\n",
       "       [0.99587895],\n",
       "       [0.43457058],\n",
       "       [0.03375459],\n",
       "       [0.57861412],\n",
       "       [0.7246581 ],\n",
       "       [0.28434665],\n",
       "       [0.70283309],\n",
       "       [0.27614113],\n",
       "       [0.53752994],\n",
       "       [0.15961391],\n",
       "       [0.75571581],\n",
       "       [0.47611824],\n",
       "       [0.05347429],\n",
       "       [0.83566346],\n",
       "       [0.79301969],\n",
       "       [0.38165838],\n",
       "       [0.86696653],\n",
       "       [0.91252847],\n",
       "       [0.99978415],\n",
       "       [0.40857269],\n",
       "       [0.47477804],\n",
       "       [0.51303809],\n",
       "       [0.0127485 ],\n",
       "       [0.00813626],\n",
       "       [0.05032159],\n",
       "       [0.27667389],\n",
       "       [0.16484228],\n",
       "       [0.58535264],\n",
       "       [0.62276485],\n",
       "       [0.79983064],\n",
       "       [0.05235927],\n",
       "       [0.79178892],\n",
       "       [0.54563408],\n",
       "       [0.14921181],\n",
       "       [0.84425091],\n",
       "       [0.73874666],\n",
       "       [0.08315131],\n",
       "       [0.3858406 ],\n",
       "       [0.81692269],\n",
       "       [0.41993964],\n",
       "       [0.71404172],\n",
       "       [0.83905226],\n",
       "       [0.57231958],\n",
       "       [0.88466774],\n",
       "       [0.13282482]])"
      ]
     },
     "execution_count": 415,
     "metadata": {},
     "output_type": "execute_result"
    }
   ],
   "source": [
    "np.random.rand(80,1)"
   ]
  },
  {
   "cell_type": "code",
   "execution_count": 425,
   "metadata": {},
   "outputs": [],
   "source": [
    "\n",
    "\n",
    "\n",
    "\n",
    "\n",
    "def params():\n",
    "\n",
    "    w1 = np.random.rand(80,2) -0.5\n",
    "    b1 = np.random.rand(1) -0.5 \n",
    "    w2 = np.random.rand(80,2) -0.5\n",
    "    b2 = np.random.rand(1) -0.5\n",
    "    w3 = np.random.rand(80,2) -0.5\n",
    "    w4 = np.random.rand(80,2) -0.5\n",
    "    return w1, b1, w2, b2, w3, w4\n",
    "\n",
    "\n",
    "\n",
    "def softplus(X):\n",
    "    return np.log1p(1 + np.exp(X))\n",
    "\n",
    "\n",
    "def forward(X,w1, b1, w2, b2, w3, w4):\n",
    "    y1 = w1.dot(X) + b1\n",
    "    X1 = softplus(y1)\n",
    "    y2 = w2.dot(X) + b2\n",
    "    X2 = softplus(y2)\n",
    "\n",
    "\n",
    "    pred = w3*X1 + w4*X2\n",
    "\n",
    "    return y1, X1, y2, X2, pred \n",
    "\n",
    "\n",
    "\n",
    "\n",
    "def deriv(X):\n",
    "    return np.exp(X)/(1 + np.exp(X))\n",
    "\n",
    "\n",
    "\n",
    "\n",
    "def backward(y1, X1, y2, X2, w1, w2, X, y, w3, w4, pred):\n",
    "    \n",
    "    dpred = -2*(y - pred)\n",
    "    dw3 = dpred*X1\n",
    "    dw4 = dpred * X2 \n",
    "    dw1 = dpred*w3*deriv(y1)*(X)\n",
    "    dw2 = dpred*w4*deriv(y2)*(X) \n",
    "    db1 = dpred.dot(w3)*(deriv(y1))\n",
    "    db2 = dpred.dot(w4)*(deriv(y2))\n",
    "\n",
    "    return dw1, dw2, dw3, dw4, db1, db2\n",
    "\n",
    "\n",
    "\n",
    "def update_params(w1, b1, w2, b2, w3, w4, dw1, dw2, dw3, dw4, db1, db2, alpha):\n",
    "\n",
    "\n",
    "    b1 = b1 - alpha*db1\n",
    "    b2 = b2 -alpha*db2\n",
    "    w1 = w1 - alpha*dw1\n",
    "    w2 = w2- alpha*dw2\n",
    "    w3 = w3- alpha*dw3\n",
    "    w4 = w4- alpha*dw4\n",
    "\n",
    "\n",
    "    return b1, b2, w1, w2, w3, w4\n",
    "\n",
    "\n",
    "\n",
    "\n",
    "\n",
    "\n",
    "\n",
    "def get_accuracy(predictions, Y):\n",
    "    print(predictions, Y)\n",
    "    return np.sum(predictions == Y) / Y.size\n",
    "\n",
    "\n",
    "\n",
    "\n",
    "\n",
    "def train(X,y, alpha, iterations):\n",
    "    w1, b1, w2, b2, w3, w4 = params()\n",
    "    for i in range(iterations):\n",
    "\n",
    "        y1, X1, y2, X2, pred = forward(X,w1, b1, w2, b2, w3, w4)\n",
    "        dw1, dw2, dw3, dw4, db1, db2 = backward(y1, X1, y2, X2, w1, w2, X, y, w3, w4, pred)\n",
    "        b1, b2, w1, w2, w3, w4 = update_params(w1, b1, w2, b2, w3, w4, dw1, dw2, dw3, dw4, db1, db2, alpha)\n",
    "        if i % 10 == 0:\n",
    "                print(\"Iteration: \", i)\n",
    "                print(mean_squared_error(pred,X) **.5)\n",
    "    return w1, b1, w2, b2, w3, w4\n",
    "\n",
    "    \n"
   ]
  },
  {
   "cell_type": "code",
   "execution_count": 426,
   "metadata": {},
   "outputs": [
    {
     "data": {
      "text/plain": [
       "(80, 2)"
      ]
     },
     "execution_count": 426,
     "metadata": {},
     "output_type": "execute_result"
    }
   ],
   "source": [
    "w1.shape"
   ]
  },
  {
   "cell_type": "code",
   "execution_count": 427,
   "metadata": {},
   "outputs": [
    {
     "data": {
      "text/plain": [
       "(1, 80)"
      ]
     },
     "execution_count": 427,
     "metadata": {},
     "output_type": "execute_result"
    }
   ],
   "source": [
    "X.shape"
   ]
  },
  {
   "cell_type": "code",
   "execution_count": 428,
   "metadata": {},
   "outputs": [
    {
     "data": {
      "text/plain": [
       "array([[10.90749667, 18.18429975]])"
      ]
     },
     "execution_count": 428,
     "metadata": {},
     "output_type": "execute_result"
    }
   ],
   "source": [
    "X.dot(w1)"
   ]
  },
  {
   "cell_type": "code",
   "execution_count": 405,
   "metadata": {},
   "outputs": [
    {
     "ename": "ValueError",
     "evalue": "shapes (80,2) and (80,) not aligned: 2 (dim 1) != 80 (dim 0)",
     "output_type": "error",
     "traceback": [
      "\u001b[1;31m---------------------------------------------------------------------------\u001b[0m",
      "\u001b[1;31mValueError\u001b[0m                                Traceback (most recent call last)",
      "Cell \u001b[1;32mIn[405], line 1\u001b[0m\n\u001b[1;32m----> 1\u001b[0m (\u001b[43mw1\u001b[49m\u001b[38;5;241;43m.\u001b[39;49m\u001b[43mdot\u001b[49m\u001b[43m(\u001b[49m\u001b[43mX\u001b[49m\u001b[43m)\u001b[49m)\n",
      "\u001b[1;31mValueError\u001b[0m: shapes (80,2) and (80,) not aligned: 2 (dim 1) != 80 (dim 0)"
     ]
    }
   ],
   "source": [
    "(w1.dot(X))"
   ]
  },
  {
   "cell_type": "code",
   "execution_count": 388,
   "metadata": {},
   "outputs": [
    {
     "ename": "ValueError",
     "evalue": "shapes (80,1) and (80,) not aligned: 1 (dim 1) != 80 (dim 0)",
     "output_type": "error",
     "traceback": [
      "\u001b[1;31m---------------------------------------------------------------------------\u001b[0m",
      "\u001b[1;31mValueError\u001b[0m                                Traceback (most recent call last)",
      "Cell \u001b[1;32mIn[388], line 1\u001b[0m\n\u001b[1;32m----> 1\u001b[0m \u001b[43mw1\u001b[49m\u001b[38;5;241;43m.\u001b[39;49m\u001b[43mdot\u001b[49m\u001b[43m(\u001b[49m\u001b[43mX\u001b[49m\u001b[43m)\u001b[49m\n",
      "\u001b[1;31mValueError\u001b[0m: shapes (80,1) and (80,) not aligned: 1 (dim 1) != 80 (dim 0)"
     ]
    }
   ],
   "source": [
    "w1.dot(X)"
   ]
  },
  {
   "cell_type": "code",
   "execution_count": 389,
   "metadata": {},
   "outputs": [
    {
     "data": {
      "text/plain": [
       "array([-29.49224762])"
      ]
     },
     "execution_count": 389,
     "metadata": {},
     "output_type": "execute_result"
    }
   ],
   "source": [
    "X.dot(w1)"
   ]
  },
  {
   "cell_type": "code",
   "execution_count": 390,
   "metadata": {},
   "outputs": [],
   "source": [
    "dpred=-2*(y - pred)"
   ]
  },
  {
   "cell_type": "code",
   "execution_count": 391,
   "metadata": {},
   "outputs": [
    {
     "data": {
      "text/plain": [
       "array([[ 303.25417512,  288.18486902,  273.56926934, ...,  259.4155381 ,\n",
       "         273.56926934,  288.18486902],\n",
       "       [-158.51857806, -154.41481195, -150.47213427, ..., -146.69447762,\n",
       "        -150.47213427, -154.41481195],\n",
       "       [-393.8586067 , -379.59627881, -365.82152538, ..., -352.54523466,\n",
       "        -365.82152538, -379.59627881],\n",
       "       ...,\n",
       "       [ 319.42062821,  303.74283793,  288.53817332, ...,  273.81509079,\n",
       "         288.53817332,  303.74283793],\n",
       "       [ 363.26914643,  345.58346811,  328.43584263, ...,  311.83626566,\n",
       "         328.43584263,  345.58346811],\n",
       "       [ -41.54311139,  -42.1286335 ,  -42.7252341 , ...,  -43.33412678,\n",
       "         -42.7252341 ,  -42.1286335 ]])"
      ]
     },
     "execution_count": 391,
     "metadata": {},
     "output_type": "execute_result"
    }
   ],
   "source": [
    "dw3 = dpred.dot(X1)\n",
    "dw3"
   ]
  },
  {
   "cell_type": "code",
   "execution_count": 392,
   "metadata": {},
   "outputs": [
    {
     "data": {
      "text/plain": [
       "array([[ 0.53971096,  0.51579791,  0.49267392, ...,  0.47036021,\n",
       "         0.49267392,  0.51579791],\n",
       "       [-0.68866468, -0.69120339, -0.69382635, ..., -0.69654585,\n",
       "        -0.69382635, -0.69120339],\n",
       "       [-2.95632935, -2.81709368, -2.68185852, ..., -2.55065765,\n",
       "        -2.68185852, -2.81709368],\n",
       "       ...,\n",
       "       [ 0.31077216,  0.30861541,  0.3066974 , ...,  0.3050231 ,\n",
       "         0.3066974 ,  0.30861541],\n",
       "       [ 1.23483803,  1.16610265,  1.09935992, ...,  1.034652  ,\n",
       "         1.09935992,  1.16610265],\n",
       "       [-1.09274912, -1.04358934, -0.99575453, ..., -0.94926097,\n",
       "        -0.99575453, -1.04358934]])"
      ]
     },
     "execution_count": 392,
     "metadata": {},
     "output_type": "execute_result"
    }
   ],
   "source": [
    "pred"
   ]
  },
  {
   "cell_type": "code",
   "execution_count": 393,
   "metadata": {},
   "outputs": [
    {
     "data": {
      "text/plain": [
       "array([[0.70019421, 0.70180781, 0.70373359, ..., 0.70601765, 0.70373359,\n",
       "        0.70180781],\n",
       "       [2.54717534, 2.44642361, 2.35022699, ..., 2.25857898, 2.35022699,\n",
       "        2.44642361],\n",
       "       [1.0502001 , 1.05148576, 1.05274256, ..., 1.05397025, 1.05274256,\n",
       "        1.05148576],\n",
       "       ...,\n",
       "       [0.72857769, 0.73326267, 0.7384112 , ..., 0.7440446 , 0.7384112 ,\n",
       "        0.73326267],\n",
       "       [5.77815522, 5.49195727, 5.21366093, ..., 4.94341301, 5.21366093,\n",
       "        5.49195727],\n",
       "       [0.7078297 , 0.71053651, 0.7136494 , ..., 0.71720997, 0.7136494 ,\n",
       "        0.71053651]])"
      ]
     },
     "execution_count": 393,
     "metadata": {},
     "output_type": "execute_result"
    }
   ],
   "source": [
    "softplus(X*w1 + b1)"
   ]
  },
  {
   "cell_type": "code",
   "execution_count": 394,
   "metadata": {},
   "outputs": [
    {
     "data": {
      "text/plain": [
       "array([[0.01404475, 0.0172469 , 0.02106193, ..., 0.02557739, 0.02106193,\n",
       "        0.0172469 ],\n",
       "       [2.4656371 , 2.35583921, 2.25002259, ..., 2.14820718, 2.25002259,\n",
       "        2.35583921],\n",
       "       [0.61962065, 0.6215975 , 0.62352867, ..., 0.62541383, 0.62352867,\n",
       "        0.6215975 ],\n",
       "       ...,\n",
       "       [0.06964853, 0.07868359, 0.08856763, ..., 0.09932928, 0.08856763,\n",
       "        0.07868359],\n",
       "       [5.77505601, 5.48782899, 5.20820436, ..., 4.93625724, 5.20820436,\n",
       "        5.48782899],\n",
       "       [0.02915258, 0.03448142, 0.04059253, ..., 0.04756014, 0.04059253,\n",
       "        0.03448142]])"
      ]
     },
     "execution_count": 394,
     "metadata": {},
     "output_type": "execute_result"
    }
   ],
   "source": [
    "def softplus_np(x): return np.log1p(np.exp(-np.abs(x))) + np.maximum(x, 0)\n",
    "\n",
    "softplus_np(X*w1 + b1)"
   ]
  },
  {
   "cell_type": "code",
   "execution_count": 395,
   "metadata": {},
   "outputs": [
    {
     "data": {
      "text/plain": [
       "array([[0.70019421, 0.70180781, 0.70373359, ..., 0.70601765, 0.70373359,\n",
       "        0.70180781],\n",
       "       [2.54717534, 2.44642361, 2.35022699, ..., 2.25857898, 2.35022699,\n",
       "        2.44642361],\n",
       "       [1.0502001 , 1.05148576, 1.05274256, ..., 1.05397025, 1.05274256,\n",
       "        1.05148576],\n",
       "       ...,\n",
       "       [0.72857769, 0.73326267, 0.7384112 , ..., 0.7440446 , 0.7384112 ,\n",
       "        0.73326267],\n",
       "       [5.77815522, 5.49195727, 5.21366093, ..., 4.94341301, 5.21366093,\n",
       "        5.49195727],\n",
       "       [0.7078297 , 0.71053651, 0.7136494 , ..., 0.71720997, 0.7136494 ,\n",
       "        0.71053651]])"
      ]
     },
     "execution_count": 395,
     "metadata": {},
     "output_type": "execute_result"
    }
   ],
   "source": [
    "def safe_softplus(x):\n",
    "    inRanges = (x < 100)\n",
    "    return np.log1p(1 + np.exp(x*inRanges))*inRanges + x*(1-inRanges)\n",
    "  \n",
    "\n",
    "safe_softplus(X*w1 + b1)"
   ]
  },
  {
   "cell_type": "code",
   "execution_count": 396,
   "metadata": {},
   "outputs": [
    {
     "data": {
      "text/plain": [
       "array([0.99999989, 0.99999975, 0.99999946, 0.99999887, 0.99999765,\n",
       "       0.99999521, 0.99999046, 0.99998136, 0.99996429, 0.99993295,\n",
       "       0.99987661, 0.99977742, 0.99960649, 0.99931814, 0.99884211,\n",
       "       0.99807327, 0.99685879, 0.99498353, 0.99215498, 0.9879908 ,\n",
       "       0.98201379, 0.97366068, 0.96231211, 0.94734988, 0.92824246,\n",
       "       0.90465054, 0.87653295, 0.84422416, 0.80845465, 0.77029895,\n",
       "       0.73105858, 0.6921095 , 0.65475346, 0.62010643, 0.58904043,\n",
       "       0.5621765 , 0.53991488, 0.52248482, 0.50999867, 0.50249998,\n",
       "       0.5       , 0.50249998, 0.50999867, 0.52248482, 0.53991488,\n",
       "       0.5621765 , 0.58904043, 0.62010643, 0.65475346, 0.6921095 ,\n",
       "       0.73105858, 0.77029895, 0.80845465, 0.84422416, 0.87653295,\n",
       "       0.90465054, 0.92824246, 0.94734988, 0.96231211, 0.97366068,\n",
       "       0.98201379, 0.9879908 , 0.99215498, 0.99498353, 0.99685879,\n",
       "       0.99807327, 0.99884211, 0.99931814, 0.99960649, 0.99977742,\n",
       "       0.99987661, 0.99993295, 0.99996429, 0.99998136, 0.99999046,\n",
       "       0.99999521, 0.99999765, 0.99999887, 0.99999946, 0.99999975])"
      ]
     },
     "execution_count": 396,
     "metadata": {},
     "output_type": "execute_result"
    }
   ],
   "source": [
    "np.exp(X)/(np.ones(80,) + np.exp(X))"
   ]
  },
  {
   "cell_type": "code",
   "execution_count": 397,
   "metadata": {},
   "outputs": [
    {
     "data": {
      "text/plain": [
       "array([0.99999989, 0.99999975, 0.99999946, 0.99999887, 0.99999765,\n",
       "       0.99999521, 0.99999046, 0.99998136, 0.99996429, 0.99993295,\n",
       "       0.99987661, 0.99977742, 0.99960649, 0.99931814, 0.99884211,\n",
       "       0.99807327, 0.99685879, 0.99498353, 0.99215498, 0.9879908 ,\n",
       "       0.98201379, 0.97366068, 0.96231211, 0.94734988, 0.92824246,\n",
       "       0.90465054, 0.87653295, 0.84422416, 0.80845465, 0.77029895,\n",
       "       0.73105858, 0.6921095 , 0.65475346, 0.62010643, 0.58904043,\n",
       "       0.5621765 , 0.53991488, 0.52248482, 0.50999867, 0.50249998,\n",
       "       0.5       , 0.50249998, 0.50999867, 0.52248482, 0.53991488,\n",
       "       0.5621765 , 0.58904043, 0.62010643, 0.65475346, 0.6921095 ,\n",
       "       0.73105858, 0.77029895, 0.80845465, 0.84422416, 0.87653295,\n",
       "       0.90465054, 0.92824246, 0.94734988, 0.96231211, 0.97366068,\n",
       "       0.98201379, 0.9879908 , 0.99215498, 0.99498353, 0.99685879,\n",
       "       0.99807327, 0.99884211, 0.99931814, 0.99960649, 0.99977742,\n",
       "       0.99987661, 0.99993295, 0.99996429, 0.99998136, 0.99999046,\n",
       "       0.99999521, 0.99999765, 0.99999887, 0.99999946, 0.99999975])"
      ]
     },
     "execution_count": 397,
     "metadata": {},
     "output_type": "execute_result"
    }
   ],
   "source": [
    "np.exp(X)/(1 + np.exp(X))"
   ]
  },
  {
   "cell_type": "code",
   "execution_count": 398,
   "metadata": {},
   "outputs": [
    {
     "ename": "ValueError",
     "evalue": "shapes (80,1) and (80,) not aligned: 1 (dim 1) != 80 (dim 0)",
     "output_type": "error",
     "traceback": [
      "\u001b[1;31m---------------------------------------------------------------------------\u001b[0m",
      "\u001b[1;31mValueError\u001b[0m                                Traceback (most recent call last)",
      "Cell \u001b[1;32mIn[398], line 1\u001b[0m\n\u001b[1;32m----> 1\u001b[0m \u001b[43mw1\u001b[49m\u001b[38;5;241;43m.\u001b[39;49m\u001b[43mdot\u001b[49m\u001b[43m(\u001b[49m\u001b[43mX\u001b[49m\u001b[43m)\u001b[49m\n",
      "\u001b[1;31mValueError\u001b[0m: shapes (80,1) and (80,) not aligned: 1 (dim 1) != 80 (dim 0)"
     ]
    }
   ],
   "source": [
    "w1.dot(X)"
   ]
  },
  {
   "cell_type": "code",
   "execution_count": 399,
   "metadata": {},
   "outputs": [
    {
     "ename": "ValueError",
     "evalue": "shapes (80,2) and (80,) not aligned: 2 (dim 1) != 80 (dim 0)",
     "output_type": "error",
     "traceback": [
      "\u001b[1;31m---------------------------------------------------------------------------\u001b[0m",
      "\u001b[1;31mValueError\u001b[0m                                Traceback (most recent call last)",
      "Cell \u001b[1;32mIn[399], line 3\u001b[0m\n\u001b[0;32m      1\u001b[0m w1, b1, w2, b2, w3, w4 \u001b[38;5;241m=\u001b[39m params()\n\u001b[1;32m----> 3\u001b[0m y1, X1, y2, X2, pred \u001b[38;5;241m=\u001b[39m \u001b[43mforward\u001b[49m\u001b[43m(\u001b[49m\u001b[43mX\u001b[49m\u001b[43m,\u001b[49m\u001b[43m \u001b[49m\u001b[43mw1\u001b[49m\u001b[43m,\u001b[49m\u001b[43m \u001b[49m\u001b[43mb1\u001b[49m\u001b[43m,\u001b[49m\u001b[43m \u001b[49m\u001b[43mw2\u001b[49m\u001b[43m,\u001b[49m\u001b[43m \u001b[49m\u001b[43mb2\u001b[49m\u001b[43m,\u001b[49m\u001b[43m \u001b[49m\u001b[43mw3\u001b[49m\u001b[43m,\u001b[49m\u001b[43m \u001b[49m\u001b[43mw4\u001b[49m\u001b[43m)\u001b[49m\n",
      "Cell \u001b[1;32mIn[384], line 27\u001b[0m, in \u001b[0;36mforward\u001b[1;34m(X, w1, b1, w2, b2, w3, w4)\u001b[0m\n\u001b[0;32m     26\u001b[0m \u001b[38;5;28;01mdef\u001b[39;00m \u001b[38;5;21mforward\u001b[39m(X,w1, b1, w2, b2, w3, w4):\n\u001b[1;32m---> 27\u001b[0m     y1 \u001b[38;5;241m=\u001b[39m \u001b[43mw1\u001b[49m\u001b[38;5;241;43m.\u001b[39;49m\u001b[43mdot\u001b[49m\u001b[43m(\u001b[49m\u001b[43mX\u001b[49m\u001b[43m)\u001b[49m \u001b[38;5;241m+\u001b[39m b1\n\u001b[0;32m     28\u001b[0m     X1 \u001b[38;5;241m=\u001b[39m softplus(y1)\n\u001b[0;32m     29\u001b[0m     y2 \u001b[38;5;241m=\u001b[39m w2\u001b[38;5;241m.\u001b[39mdot(X) \u001b[38;5;241m+\u001b[39m b2\n",
      "\u001b[1;31mValueError\u001b[0m: shapes (80,2) and (80,) not aligned: 2 (dim 1) != 80 (dim 0)"
     ]
    }
   ],
   "source": [
    "w1, b1, w2, b2, w3, w4 = params()\n",
    "\n",
    "y1, X1, y2, X2, pred = forward(X, w1, b1, w2, b2, w3, w4)"
   ]
  },
  {
   "cell_type": "code",
   "execution_count": 400,
   "metadata": {},
   "outputs": [
    {
     "data": {
      "text/plain": [
       "array([[ 4.58440982,  4.35234274,  4.12615077, ...,  3.90583392,\n",
       "         4.12615077,  4.35234274],\n",
       "       [-3.79212433, -3.61060004, -3.4336713 , ..., -3.26133811,\n",
       "        -3.4336713 , -3.61060004],\n",
       "       [ 2.97911354,  2.82630796,  2.67737088, ...,  2.53230229,\n",
       "         2.67737088,  2.82630796],\n",
       "       ...,\n",
       "       [-3.1567971 , -3.00664209, -2.86028848, ..., -2.71773625,\n",
       "        -2.86028848, -3.00664209],\n",
       "       [-2.36854742, -2.25731224, -2.14889314, ..., -2.04329012,\n",
       "        -2.14889314, -2.25731224],\n",
       "       [ 5.36806058,  5.09730074,  4.83339558, ...,  4.5763451 ,\n",
       "         4.83339558,  5.09730074]])"
      ]
     },
     "execution_count": 400,
     "metadata": {},
     "output_type": "execute_result"
    }
   ],
   "source": [
    "y1"
   ]
  },
  {
   "cell_type": "code",
   "execution_count": 345,
   "metadata": {},
   "outputs": [
    {
     "data": {
      "text/plain": [
       "(80, 80)"
      ]
     },
     "execution_count": 345,
     "metadata": {},
     "output_type": "execute_result"
    }
   ],
   "source": [
    "pred.shape"
   ]
  },
  {
   "cell_type": "code",
   "execution_count": 346,
   "metadata": {},
   "outputs": [
    {
     "data": {
      "text/plain": [
       "13"
      ]
     },
     "execution_count": 346,
     "metadata": {},
     "output_type": "execute_result"
    }
   ],
   "source": [
    "np.array([2,1,3]).dot(np.array([1,2,3]))"
   ]
  },
  {
   "cell_type": "code",
   "execution_count": 347,
   "metadata": {},
   "outputs": [
    {
     "data": {
      "text/plain": [
       "(80,)"
      ]
     },
     "execution_count": 347,
     "metadata": {},
     "output_type": "execute_result"
    }
   ],
   "source": [
    "X.shape"
   ]
  },
  {
   "cell_type": "code",
   "execution_count": 348,
   "metadata": {},
   "outputs": [
    {
     "data": {
      "text/plain": [
       "array([ 609.02731913,  594.42765918,  579.78275509,  565.09237828,\n",
       "        550.35638302,  535.57471946,  520.74744534,  505.87473586,\n",
       "        490.95689117,  475.9943409 ,  460.9876455 ,  445.93749398,\n",
       "        430.84469785,  415.7101812 ,  400.53496688,  385.32015915,\n",
       "        370.06692316,  354.77646203,  339.44999256,  324.08872032,\n",
       "        308.69381497,  293.26638632,  277.8074613 ,  262.31796246,\n",
       "        246.79868856,  231.25029863,  215.67330084,  200.06804784,\n",
       "        184.43473932,  168.77343218,  153.08405725,  137.36644129,\n",
       "        121.62033211,  105.84542493,   90.04138807,   74.2078867 ,\n",
       "         58.34460361,   42.45125664,   26.52761257,   10.57349763,\n",
       "         -5.4111953 ,  -21.42650237,  -37.47238743,  -53.54874336,\n",
       "        -69.65539639,  -85.7921133 , -101.95861193, -118.15457507,\n",
       "       -134.37966789, -150.63355871, -166.91594275, -183.22656782,\n",
       "       -199.56526068, -215.93195216, -232.32669916, -248.74970137,\n",
       "       -265.20131144, -281.68203754, -298.1925387 , -314.73361368,\n",
       "       -331.30618503, -347.91127968, -364.55000744, -381.22353797,\n",
       "       -397.93307684, -414.67984085, -431.46503312, -448.2898188 ,\n",
       "       -465.15530215, -482.06250602, -499.0123545 , -516.0056591 ,\n",
       "       -533.04310883, -550.12526414, -567.25255466, -584.42528054,\n",
       "       -601.64361698, -618.90762172, -636.21724491, -653.57234082])"
      ]
     },
     "execution_count": 348,
     "metadata": {},
     "output_type": "execute_result"
    }
   ],
   "source": [
    "-2*sum(y - pred)"
   ]
  },
  {
   "cell_type": "code",
   "execution_count": 349,
   "metadata": {},
   "outputs": [
    {
     "data": {
      "text/plain": [
       "(80, 80)"
      ]
     },
     "execution_count": 349,
     "metadata": {},
     "output_type": "execute_result"
    }
   ],
   "source": [
    "pred.shape"
   ]
  },
  {
   "cell_type": "code",
   "execution_count": 350,
   "metadata": {},
   "outputs": [],
   "source": [
    "y1, X1, y2, X2, pred  = forward(X, w1, b1, w2, b2, w3, w4)"
   ]
  },
  {
   "cell_type": "code",
   "execution_count": 351,
   "metadata": {},
   "outputs": [
    {
     "name": "stdout",
     "output_type": "stream",
     "text": [
      "Iteration:  0\n"
     ]
    },
    {
     "ename": "ValueError",
     "evalue": "y_true and y_pred have different number of output (80!=1)",
     "output_type": "error",
     "traceback": [
      "\u001b[1;31m---------------------------------------------------------------------------\u001b[0m",
      "\u001b[1;31mValueError\u001b[0m                                Traceback (most recent call last)",
      "Cell \u001b[1;32mIn[351], line 1\u001b[0m\n\u001b[1;32m----> 1\u001b[0m w1, b1, w2, b2, w3, w4 \u001b[38;5;241m=\u001b[39m \u001b[43mtrain\u001b[49m\u001b[43m(\u001b[49m\u001b[43mX\u001b[49m\u001b[43m,\u001b[49m\u001b[43my\u001b[49m\u001b[43m,\u001b[49m\u001b[38;5;241;43m0.01\u001b[39;49m\u001b[43m,\u001b[49m\u001b[38;5;241;43m500\u001b[39;49m\u001b[43m)\u001b[49m\n",
      "Cell \u001b[1;32mIn[333], line 96\u001b[0m, in \u001b[0;36mtrain\u001b[1;34m(X, y, alpha, iterations)\u001b[0m\n\u001b[0;32m     94\u001b[0m     \u001b[38;5;28;01mif\u001b[39;00m i \u001b[38;5;241m%\u001b[39m \u001b[38;5;241m10\u001b[39m \u001b[38;5;241m==\u001b[39m \u001b[38;5;241m0\u001b[39m:\n\u001b[0;32m     95\u001b[0m             \u001b[38;5;28mprint\u001b[39m(\u001b[38;5;124m\"\u001b[39m\u001b[38;5;124mIteration: \u001b[39m\u001b[38;5;124m\"\u001b[39m, i)\n\u001b[1;32m---> 96\u001b[0m             \u001b[38;5;28mprint\u001b[39m(\u001b[43mmean_squared_error\u001b[49m\u001b[43m(\u001b[49m\u001b[43mpred\u001b[49m\u001b[43m,\u001b[49m\u001b[43mX\u001b[49m\u001b[43m)\u001b[49m \u001b[38;5;241m*\u001b[39m\u001b[38;5;241m*\u001b[39m\u001b[38;5;241m.5\u001b[39m)\n\u001b[0;32m     97\u001b[0m \u001b[38;5;28;01mreturn\u001b[39;00m w1, b1, w2, b2, w3, w4\n",
      "File \u001b[1;32mc:\\Users\\jhayter\\AppData\\Local\\Programs\\Python\\Python312\\Lib\\site-packages\\sklearn\\utils\\_param_validation.py:213\u001b[0m, in \u001b[0;36mvalidate_params.<locals>.decorator.<locals>.wrapper\u001b[1;34m(*args, **kwargs)\u001b[0m\n\u001b[0;32m    207\u001b[0m \u001b[38;5;28;01mtry\u001b[39;00m:\n\u001b[0;32m    208\u001b[0m     \u001b[38;5;28;01mwith\u001b[39;00m config_context(\n\u001b[0;32m    209\u001b[0m         skip_parameter_validation\u001b[38;5;241m=\u001b[39m(\n\u001b[0;32m    210\u001b[0m             prefer_skip_nested_validation \u001b[38;5;129;01mor\u001b[39;00m global_skip_validation\n\u001b[0;32m    211\u001b[0m         )\n\u001b[0;32m    212\u001b[0m     ):\n\u001b[1;32m--> 213\u001b[0m         \u001b[38;5;28;01mreturn\u001b[39;00m \u001b[43mfunc\u001b[49m\u001b[43m(\u001b[49m\u001b[38;5;241;43m*\u001b[39;49m\u001b[43margs\u001b[49m\u001b[43m,\u001b[49m\u001b[43m \u001b[49m\u001b[38;5;241;43m*\u001b[39;49m\u001b[38;5;241;43m*\u001b[39;49m\u001b[43mkwargs\u001b[49m\u001b[43m)\u001b[49m\n\u001b[0;32m    214\u001b[0m \u001b[38;5;28;01mexcept\u001b[39;00m InvalidParameterError \u001b[38;5;28;01mas\u001b[39;00m e:\n\u001b[0;32m    215\u001b[0m     \u001b[38;5;66;03m# When the function is just a wrapper around an estimator, we allow\u001b[39;00m\n\u001b[0;32m    216\u001b[0m     \u001b[38;5;66;03m# the function to delegate validation to the estimator, but we replace\u001b[39;00m\n\u001b[0;32m    217\u001b[0m     \u001b[38;5;66;03m# the name of the estimator by the name of the function in the error\u001b[39;00m\n\u001b[0;32m    218\u001b[0m     \u001b[38;5;66;03m# message to avoid confusion.\u001b[39;00m\n\u001b[0;32m    219\u001b[0m     msg \u001b[38;5;241m=\u001b[39m re\u001b[38;5;241m.\u001b[39msub(\n\u001b[0;32m    220\u001b[0m         \u001b[38;5;124mr\u001b[39m\u001b[38;5;124m\"\u001b[39m\u001b[38;5;124mparameter of \u001b[39m\u001b[38;5;124m\\\u001b[39m\u001b[38;5;124mw+ must be\u001b[39m\u001b[38;5;124m\"\u001b[39m,\n\u001b[0;32m    221\u001b[0m         \u001b[38;5;124mf\u001b[39m\u001b[38;5;124m\"\u001b[39m\u001b[38;5;124mparameter of \u001b[39m\u001b[38;5;132;01m{\u001b[39;00mfunc\u001b[38;5;241m.\u001b[39m\u001b[38;5;18m__qualname__\u001b[39m\u001b[38;5;132;01m}\u001b[39;00m\u001b[38;5;124m must be\u001b[39m\u001b[38;5;124m\"\u001b[39m,\n\u001b[0;32m    222\u001b[0m         \u001b[38;5;28mstr\u001b[39m(e),\n\u001b[0;32m    223\u001b[0m     )\n",
      "File \u001b[1;32mc:\\Users\\jhayter\\AppData\\Local\\Programs\\Python\\Python312\\Lib\\site-packages\\sklearn\\metrics\\_regression.py:506\u001b[0m, in \u001b[0;36mmean_squared_error\u001b[1;34m(y_true, y_pred, sample_weight, multioutput, squared)\u001b[0m\n\u001b[0;32m    501\u001b[0m     \u001b[38;5;28;01mif\u001b[39;00m \u001b[38;5;129;01mnot\u001b[39;00m squared:\n\u001b[0;32m    502\u001b[0m         \u001b[38;5;28;01mreturn\u001b[39;00m root_mean_squared_error(\n\u001b[0;32m    503\u001b[0m             y_true, y_pred, sample_weight\u001b[38;5;241m=\u001b[39msample_weight, multioutput\u001b[38;5;241m=\u001b[39mmultioutput\n\u001b[0;32m    504\u001b[0m         )\n\u001b[1;32m--> 506\u001b[0m y_type, y_true, y_pred, multioutput \u001b[38;5;241m=\u001b[39m \u001b[43m_check_reg_targets\u001b[49m\u001b[43m(\u001b[49m\n\u001b[0;32m    507\u001b[0m \u001b[43m    \u001b[49m\u001b[43my_true\u001b[49m\u001b[43m,\u001b[49m\u001b[43m \u001b[49m\u001b[43my_pred\u001b[49m\u001b[43m,\u001b[49m\u001b[43m \u001b[49m\u001b[43mmultioutput\u001b[49m\n\u001b[0;32m    508\u001b[0m \u001b[43m\u001b[49m\u001b[43m)\u001b[49m\n\u001b[0;32m    509\u001b[0m check_consistent_length(y_true, y_pred, sample_weight)\n\u001b[0;32m    510\u001b[0m output_errors \u001b[38;5;241m=\u001b[39m np\u001b[38;5;241m.\u001b[39maverage((y_true \u001b[38;5;241m-\u001b[39m y_pred) \u001b[38;5;241m*\u001b[39m\u001b[38;5;241m*\u001b[39m \u001b[38;5;241m2\u001b[39m, axis\u001b[38;5;241m=\u001b[39m\u001b[38;5;241m0\u001b[39m, weights\u001b[38;5;241m=\u001b[39msample_weight)\n",
      "File \u001b[1;32mc:\\Users\\jhayter\\AppData\\Local\\Programs\\Python\\Python312\\Lib\\site-packages\\sklearn\\metrics\\_regression.py:122\u001b[0m, in \u001b[0;36m_check_reg_targets\u001b[1;34m(y_true, y_pred, multioutput, dtype, xp)\u001b[0m\n\u001b[0;32m    119\u001b[0m     y_pred \u001b[38;5;241m=\u001b[39m xp\u001b[38;5;241m.\u001b[39mreshape(y_pred, (\u001b[38;5;241m-\u001b[39m\u001b[38;5;241m1\u001b[39m, \u001b[38;5;241m1\u001b[39m))\n\u001b[0;32m    121\u001b[0m \u001b[38;5;28;01mif\u001b[39;00m y_true\u001b[38;5;241m.\u001b[39mshape[\u001b[38;5;241m1\u001b[39m] \u001b[38;5;241m!=\u001b[39m y_pred\u001b[38;5;241m.\u001b[39mshape[\u001b[38;5;241m1\u001b[39m]:\n\u001b[1;32m--> 122\u001b[0m     \u001b[38;5;28;01mraise\u001b[39;00m \u001b[38;5;167;01mValueError\u001b[39;00m(\n\u001b[0;32m    123\u001b[0m         \u001b[38;5;124m\"\u001b[39m\u001b[38;5;124my_true and y_pred have different number of output (\u001b[39m\u001b[38;5;132;01m{0}\u001b[39;00m\u001b[38;5;124m!=\u001b[39m\u001b[38;5;132;01m{1}\u001b[39;00m\u001b[38;5;124m)\u001b[39m\u001b[38;5;124m\"\u001b[39m\u001b[38;5;241m.\u001b[39mformat(\n\u001b[0;32m    124\u001b[0m             y_true\u001b[38;5;241m.\u001b[39mshape[\u001b[38;5;241m1\u001b[39m], y_pred\u001b[38;5;241m.\u001b[39mshape[\u001b[38;5;241m1\u001b[39m]\n\u001b[0;32m    125\u001b[0m         )\n\u001b[0;32m    126\u001b[0m     )\n\u001b[0;32m    128\u001b[0m n_outputs \u001b[38;5;241m=\u001b[39m y_true\u001b[38;5;241m.\u001b[39mshape[\u001b[38;5;241m1\u001b[39m]\n\u001b[0;32m    129\u001b[0m allowed_multioutput_str \u001b[38;5;241m=\u001b[39m (\u001b[38;5;124m\"\u001b[39m\u001b[38;5;124mraw_values\u001b[39m\u001b[38;5;124m\"\u001b[39m, \u001b[38;5;124m\"\u001b[39m\u001b[38;5;124muniform_average\u001b[39m\u001b[38;5;124m\"\u001b[39m, \u001b[38;5;124m\"\u001b[39m\u001b[38;5;124mvariance_weighted\u001b[39m\u001b[38;5;124m\"\u001b[39m)\n",
      "\u001b[1;31mValueError\u001b[0m: y_true and y_pred have different number of output (80!=1)"
     ]
    }
   ],
   "source": [
    "w1, b1, w2, b2, w3, w4 = train(X,y,0.01,500)"
   ]
  },
  {
   "cell_type": "code",
   "execution_count": 291,
   "metadata": {},
   "outputs": [
    {
     "data": {
      "image/png": "[encoded data removed]",
      "text/plain": [
       "<Figure size 640x480 with 1 Axes>"
      ]
     },
     "metadata": {},
     "output_type": "display_data"
    }
   ],
   "source": [
    "plt.plot(y, X, label='X carré')  # Première courbe\n",
    "plt.plot(y, pred, label='prédictions')  # Deuxième courbe\n",
    "\n",
    "# Personnalisation du graphique\n",
    "plt.xlabel('Y')\n",
    "plt.ylabel('Valeurs')\n",
    "#plt.title('Comparaison de X et Z en fonction de Y')\n",
    "plt.legend()\n",
    "\n",
    "# Affichage du graphique\n",
    "plt.show()"
   ]
  },
  {
   "cell_type": "code",
   "execution_count": 107,
   "metadata": {},
   "outputs": [],
   "source": [
    "import numpy as np\n",
    "\n",
    "# Génération des données\n",
    "y = np.array([i / 10 for i in range(-40, 40)])\n",
    "X = np.array([i ** 2 for i in y]).reshape(-1, 1)\n",
    "\n",
    "# Initialisation des paramètres\n",
    "def params():\n",
    "    w1 = np.random.rand(80, 1) - 0.5\n",
    "    b1 = np.random.rand(80, 1) - 0.5\n",
    "    w2 = np.random.rand(80, 1) - 0.5\n",
    "    b2 = np.random.rand(80, 1) - 0.5\n",
    "    w3 = np.random.rand(80, 1) - 0.5\n",
    "    w4 = np.random.rand(80, 1) - 0.5\n",
    "    return w1, b1, w2, b2, w3, w4\n",
    "\n",
    "# Fonction Softplus\n",
    "def softplus(X):\n",
    "    return np.log(1 + np.exp(X))\n",
    "\n",
    "# Passage avant (Forward)\n",
    "def forward(X, w1, b1, w2, b2, w3, w4):\n",
    "    y1 = np.dot(w1.T, X) + b1\n",
    "    X1 = softplus(y1)\n",
    "    y2 = np.dot(w2.T, X) + b2\n",
    "    X2 = softplus(y2)\n",
    "    pred = np.dot(w3.T, X1) + np.dot(w4.T, X2)\n",
    "    return y1, X1, y2, X2, pred\n",
    "\n",
    "# Dérivée de Softplus\n",
    "def deriv(X):\n",
    "    return np.exp(X) / (1 + np.exp(X))\n",
    "\n",
    "# Passage arrière (Backward)\n",
    "def backward(y1, X1, y2, X2, w1, w2, X, Y, w3, w4, pred):\n",
    "    dpred = -2 * (Y - pred).reshape(-1, 1)\n",
    "    dw3 = dpred * X1\n",
    "    dw4 = dpred * X2\n",
    "    dw1 = deriv(y1) * np.dot(X, dpred.T)\n",
    "    dw2 = deriv(y2) * np.dot(X, dpred.T)\n",
    "    db1 = deriv(y1) * dpred\n",
    "    db2 = deriv(y2) * dpred\n",
    "    return dw1, dw2, dw3, dw4, db1, db2\n",
    "\n",
    "# Mise à jour des paramètres\n",
    "def update_params(w1, b1, w2, b2, w3, w4, dw1, dw2, dw3, dw4, db1, db2, alpha):\n",
    "    w1 -= alpha * dw1\n",
    "    b1 -= alpha * db1\n",
    "    w2 -= alpha * dw2\n",
    "    b2 -= alpha * db2\n",
    "    w3 -= alpha * dw3\n",
    "    w4 -= alpha * dw4\n",
    "    return w1, b1, w2, b2, w3, w4\n",
    "\n",
    "# Entraînement du modèle\n",
    "def train(X, Y, alpha, iterations):\n",
    "    w1, b1, w2, b2, w3, w4 = params()\n",
    "    for i in range(iterations):\n",
    "        y1, X1, y2, X2, pred = forward(X, w1, b1, w2, b2, w3, w4)\n",
    "        dw1, dw2, dw3, dw4, db1, db2 = backward(y1, X1, y2, X2, w1, w2, X, Y, w3, w4, pred)\n",
    "        w1, b1, w2, b2, w3, w4 = update_params(w1, b1, w2, b2, w3, w4, dw1, dw2, dw3, dw4, db1, db2, alpha)\n",
    "        if i % 10 == 0:\n",
    "            print(f\"Iteration {i}: Loss = {np.mean((Y - pred)**2)}\")\n",
    "    return w1, b1, w2, b2, w3, w4\n"
   ]
  },
  {
   "cell_type": "code",
   "execution_count": 108,
   "metadata": {},
   "outputs": [
    {
     "ename": "ValueError",
     "evalue": "non-broadcastable output operand with shape (80,1) doesn't match the broadcast shape (80,80)",
     "output_type": "error",
     "traceback": [
      "\u001b[1;31m---------------------------------------------------------------------------\u001b[0m",
      "\u001b[1;31mValueError\u001b[0m                                Traceback (most recent call last)",
      "Cell \u001b[1;32mIn[108], line 1\u001b[0m\n\u001b[1;32m----> 1\u001b[0m \u001b[43mtrain\u001b[49m\u001b[43m(\u001b[49m\u001b[43mX\u001b[49m\u001b[43m,\u001b[49m\u001b[43my\u001b[49m\u001b[43m,\u001b[49m\u001b[38;5;241;43m0.1\u001b[39;49m\u001b[43m,\u001b[49m\u001b[38;5;241;43m500\u001b[39;49m\u001b[43m)\u001b[49m\n",
      "Cell \u001b[1;32mIn[107], line 61\u001b[0m, in \u001b[0;36mtrain\u001b[1;34m(X, Y, alpha, iterations)\u001b[0m\n\u001b[0;32m     59\u001b[0m y1, X1, y2, X2, pred \u001b[38;5;241m=\u001b[39m forward(X, w1, b1, w2, b2, w3, w4)\n\u001b[0;32m     60\u001b[0m dw1, dw2, dw3, dw4, db1, db2 \u001b[38;5;241m=\u001b[39m backward(y1, X1, y2, X2, w1, w2, X, Y, w3, w4, pred)\n\u001b[1;32m---> 61\u001b[0m w1, b1, w2, b2, w3, w4 \u001b[38;5;241m=\u001b[39m \u001b[43mupdate_params\u001b[49m\u001b[43m(\u001b[49m\u001b[43mw1\u001b[49m\u001b[43m,\u001b[49m\u001b[43m \u001b[49m\u001b[43mb1\u001b[49m\u001b[43m,\u001b[49m\u001b[43m \u001b[49m\u001b[43mw2\u001b[49m\u001b[43m,\u001b[49m\u001b[43m \u001b[49m\u001b[43mb2\u001b[49m\u001b[43m,\u001b[49m\u001b[43m \u001b[49m\u001b[43mw3\u001b[49m\u001b[43m,\u001b[49m\u001b[43m \u001b[49m\u001b[43mw4\u001b[49m\u001b[43m,\u001b[49m\u001b[43m \u001b[49m\u001b[43mdw1\u001b[49m\u001b[43m,\u001b[49m\u001b[43m \u001b[49m\u001b[43mdw2\u001b[49m\u001b[43m,\u001b[49m\u001b[43m \u001b[49m\u001b[43mdw3\u001b[49m\u001b[43m,\u001b[49m\u001b[43m \u001b[49m\u001b[43mdw4\u001b[49m\u001b[43m,\u001b[49m\u001b[43m \u001b[49m\u001b[43mdb1\u001b[49m\u001b[43m,\u001b[49m\u001b[43m \u001b[49m\u001b[43mdb2\u001b[49m\u001b[43m,\u001b[49m\u001b[43m \u001b[49m\u001b[43malpha\u001b[49m\u001b[43m)\u001b[49m\n\u001b[0;32m     62\u001b[0m \u001b[38;5;28;01mif\u001b[39;00m i \u001b[38;5;241m%\u001b[39m \u001b[38;5;241m10\u001b[39m \u001b[38;5;241m==\u001b[39m \u001b[38;5;241m0\u001b[39m:\n\u001b[0;32m     63\u001b[0m     \u001b[38;5;28mprint\u001b[39m(\u001b[38;5;124mf\u001b[39m\u001b[38;5;124m\"\u001b[39m\u001b[38;5;124mIteration \u001b[39m\u001b[38;5;132;01m{\u001b[39;00mi\u001b[38;5;132;01m}\u001b[39;00m\u001b[38;5;124m: Loss = \u001b[39m\u001b[38;5;132;01m{\u001b[39;00mnp\u001b[38;5;241m.\u001b[39mmean((Y\u001b[38;5;250m \u001b[39m\u001b[38;5;241m-\u001b[39m\u001b[38;5;250m \u001b[39mpred)\u001b[38;5;241m*\u001b[39m\u001b[38;5;241m*\u001b[39m\u001b[38;5;241m2\u001b[39m)\u001b[38;5;132;01m}\u001b[39;00m\u001b[38;5;124m\"\u001b[39m)\n",
      "Cell \u001b[1;32mIn[107], line 47\u001b[0m, in \u001b[0;36mupdate_params\u001b[1;34m(w1, b1, w2, b2, w3, w4, dw1, dw2, dw3, dw4, db1, db2, alpha)\u001b[0m\n\u001b[0;32m     46\u001b[0m \u001b[38;5;28;01mdef\u001b[39;00m \u001b[38;5;21mupdate_params\u001b[39m(w1, b1, w2, b2, w3, w4, dw1, dw2, dw3, dw4, db1, db2, alpha):\n\u001b[1;32m---> 47\u001b[0m     \u001b[43mw1\u001b[49m\u001b[43m \u001b[49m\u001b[38;5;241;43m-\u001b[39;49m\u001b[38;5;241;43m=\u001b[39;49m\u001b[43m \u001b[49m\u001b[43malpha\u001b[49m\u001b[43m \u001b[49m\u001b[38;5;241;43m*\u001b[39;49m\u001b[43m \u001b[49m\u001b[43mdw1\u001b[49m\n\u001b[0;32m     48\u001b[0m     b1 \u001b[38;5;241m-\u001b[39m\u001b[38;5;241m=\u001b[39m alpha \u001b[38;5;241m*\u001b[39m db1\n\u001b[0;32m     49\u001b[0m     w2 \u001b[38;5;241m-\u001b[39m\u001b[38;5;241m=\u001b[39m alpha \u001b[38;5;241m*\u001b[39m dw2\n",
      "\u001b[1;31mValueError\u001b[0m: non-broadcastable output operand with shape (80,1) doesn't match the broadcast shape (80,80)"
     ]
    }
   ],
   "source": [
    "train(X,y,0.1,500)"
   ]
  },
  {
   "cell_type": "code",
   "execution_count": null,
   "metadata": {},
   "outputs": [],
   "source": []
  }
 ],
 "metadata": {
  "kernelspec": {
   "display_name": "Python 3",
   "language": "python",
   "name": "python3"
  },
  "language_info": {
   "codemirror_mode": {
    "name": "ipython",
    "version": 3
   },
   "file_extension": ".py",
   "mimetype": "text/x-python",
   "name": "python",
   "nbconvert_exporter": "python",
   "pygments_lexer": "ipython3",
   "version": "3.12.4"
  }
 },
 "nbformat": 4,
 "nbformat_minor": 2
}
