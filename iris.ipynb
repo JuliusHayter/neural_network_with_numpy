{
 "cells": [
  {
   "cell_type": "code",
   "execution_count": null,
   "metadata": {},
   "outputs": [],
   "source": []
  },
  {
   "cell_type": "code",
   "execution_count": 33,
   "metadata": {},
   "outputs": [],
   "source": [
    "import numpy as np\n",
    "from sklearn import datasets\n",
    "import pandas as pd\n",
    "iris = datasets.load_iris()\n",
    "X = iris.data\n",
    "y = iris.target\n",
    "\n",
    "indices = np.random.permutation(len(X))\n",
    "\n",
    "X = X[indices]\n",
    "y = y[indices]\n",
    "\n",
    "\n",
    "\n",
    "X = X.T\n",
    "y = y.T\n",
    "\n",
    "\n",
    "X_train = X[:,:120]\n",
    "X_test = X[:,120:]\n",
    "\n",
    "y_train = y[:120]\n",
    "y_test = y[120:]"
   ]
  },
  {
   "cell_type": "code",
   "execution_count": 35,
   "metadata": {},
   "outputs": [
    {
     "data": {
      "text/plain": [
       "array([0, 0, 0, 1, 2, 2, 2, 1, 1, 1, 2, 1, 0, 2, 0, 2, 2, 1, 2, 0, 0, 2,\n",
       "       1, 2, 1, 1, 0, 0, 2, 1, 2, 1, 0, 1, 1, 1, 1, 0, 1, 2, 0, 0, 0, 0,\n",
       "       1, 0, 0, 0, 2, 1, 1, 1, 2, 0, 1, 2, 2, 0, 2, 2, 0, 1, 2, 1, 1, 2,\n",
       "       0, 0, 2, 1, 2, 1, 1, 1, 0, 1, 0, 1, 1, 2, 0, 0, 2, 0, 0, 1, 0, 1,\n",
       "       1, 0, 1, 2, 2, 0, 2, 2, 1, 0, 2, 1, 0, 2, 2, 0, 0, 1, 2, 0, 0, 0,\n",
       "       2, 2, 2, 0, 1, 2, 1, 0, 2, 0, 2, 0, 1, 2, 0, 0, 0, 2, 2, 1, 2, 1,\n",
       "       0, 2, 1, 2, 1, 1, 1, 2, 0, 1, 2, 0, 1, 1, 2, 2, 2, 0])"
      ]
     },
     "execution_count": 35,
     "metadata": {},
     "output_type": "execute_result"
    }
   ],
   "source": [
    "y"
   ]
  },
  {
   "cell_type": "code",
   "execution_count": 37,
   "metadata": {},
   "outputs": [
    {
     "data": {
      "text/plain": [
       "array([[0.26822931, 0.68489829, 0.67058526, 0.25440394],\n",
       "       [0.23087351, 0.03062969, 0.8885285 , 0.99280179],\n",
       "       [0.27331584, 0.53409365, 0.68019526, 0.89916505]])"
      ]
     },
     "execution_count": 37,
     "metadata": {},
     "output_type": "execute_result"
    }
   ],
   "source": [
    "np.random.rand(3,4)"
   ]
  },
  {
   "cell_type": "code",
   "execution_count": null,
   "metadata": {},
   "outputs": [],
   "source": [
    "def params():\n",
    "\n",
    "    w1 = np.random.rand(3,4) -0.5\n",
    "    b1 = np.random.rand(3,1) -0.5 \n",
    "    w2 = np.random.rand(3,4) -0.5\n",
    "    b2 = np.random.rand(3,1) -0.5\n",
    "    return w1, b1, w2, b2\n",
    "\n",
    "\n",
    "\n",
    "def ReLU(X):\n",
    "    return np.minimum(0,X)\n",
    "\n",
    "\n",
    "\n",
    "\n",
    "def softmax(X):\n",
    "\n",
    "    return np.exp(X) / sum(np.exp(X))\n",
    "\n",
    "\n",
    "\n",
    "def one_hot(Y):\n",
    "    one_hot_Y = np.zeros((Y.size, Y.max() + 1))\n",
    "    one_hot_Y[np.arange(Y.size), Y] = 1\n",
    "    one_hot_Y = one_hot_Y.T\n",
    "    return one_hot_Y\n",
    "\n",
    "\n",
    "def forward(w1, b1, w2, b2, X):\n",
    "    \n",
    "    \n",
    "    A = X \n",
    "\n",
    "    Z1 = w1.dot(A) + b1\n",
    "    A1 = ReLU(Z1)\n",
    "    Z2 = w2.dot(A1) + b2\n",
    "    A2 = softmax(Z2)\n",
    "\n",
    "    return Z1, A1, Z2, A2\n",
    "\n",
    "\n",
    "def ReLU_deriv(X):\n",
    "    return X>0\n",
    "\n",
    "\n",
    "\n",
    "def backward(w1, b1, w2, b2, A1, Z1, A2, Z2, X, y):\n",
    "    dZ2 = 2*sum(Z2)\n",
    "\n",
    "\n"
   ]
  }
 ],
 "metadata": {
  "kernelspec": {
   "display_name": "Python 3",
   "language": "python",
   "name": "python3"
  },
  "language_info": {
   "codemirror_mode": {
    "name": "ipython",
    "version": 3
   },
   "file_extension": ".py",
   "mimetype": "text/x-python",
   "name": "python",
   "nbconvert_exporter": "python",
   "pygments_lexer": "ipython3",
   "version": "3.12.4"
  }
 },
 "nbformat": 4,
 "nbformat_minor": 2
}
